{
 "cells": [
  {
   "cell_type": "code",
   "execution_count": 14,
   "metadata": {},
   "outputs": [
    {
     "name": "stdout",
     "output_type": "stream",
     "text": [
      "Inside Data directory:\n",
      "../data/raw/19010-3\n",
      "../data/raw/19010-2\n",
      "../data/raw/19004-3\n",
      "../data/raw/19004-2\n",
      "../data/raw/19003-2\n",
      "../data/raw/19009-2\n",
      "../data/raw/19007-3\n",
      "../data/raw/19009-3\n",
      "../data/raw/19003-3\n",
      "../data/raw/19007-2\n",
      "../data/raw/19008-2\n",
      "../data/raw/19002-2\n",
      "../data/raw/19006-3\n",
      "../data/raw/19002-3\n",
      "../data/raw/19008-3\n",
      "../data/raw/19006-2\n",
      "../data/raw/19005-3\n",
      "../data/raw/19001-2\n",
      "../data/raw/19005-2\n",
      "../data/raw/19001-3\n"
     ]
    }
   ],
   "source": [
    "import glob\n",
    "# using glob to match every pathname\n",
    "print('Inside Data directory:')\n",
    "for item in glob.glob(\"../data/raw/*\"):\n",
    "    print(item)"
   ]
  },
  {
   "cell_type": "code",
   "execution_count": 15,
   "metadata": {},
   "outputs": [
    {
     "name": "stdout",
     "output_type": "stream",
     "text": [
      "Inside raw directory:\n",
      "../data/raw/19010-3\n",
      "../data/raw/19010-2\n",
      "../data/raw/19004-3\n",
      "../data/raw/19004-2\n",
      "../data/raw/19003-2\n",
      "../data/raw/19009-2\n",
      "../data/raw/19007-3\n",
      "../data/raw/19009-3\n",
      "../data/raw/19003-3\n",
      "../data/raw/19007-2\n",
      "../data/raw/19008-2\n",
      "../data/raw/19002-2\n",
      "../data/raw/19006-3\n",
      "../data/raw/19002-3\n",
      "../data/raw/19008-3\n",
      "../data/raw/19006-2\n",
      "../data/raw/19005-3\n",
      "../data/raw/19001-2\n",
      "../data/raw/19005-2\n",
      "../data/raw/19001-3\n"
     ]
    }
   ],
   "source": [
    "print('Inside raw directory:')\n",
    "for item in glob.glob(\"../data/raw/*\"):\n",
    "    print(item)"
   ]
  },
  {
   "cell_type": "code",
   "execution_count": 12,
   "metadata": {},
   "outputs": [],
   "source": [
    "# import pandas lib as pd\n",
    "import pandas as pd\n",
    "def import_data(id):\n",
    "    li=[]\n",
    "    # for each report in each file:\n",
    "    for report in glob.glob(f\"{file}/*\"):\n",
    "        df= pd.read_excel(f'{report}')\n",
    "        # Number of rows to drop\n",
    "        n = 6\n",
    "        # Using drop() function to delete first n rows\n",
    "        df.drop(index=df.index[:n], axis=0, inplace=True)\n",
    "        #assign the headers TIME LONG LAT ...\n",
    "        headers = df.iloc[0]\n",
    "        df  = pd.DataFrame(df.values[1:], columns=headers)\n",
    "        #drop adress, valid, altitude\n",
    "        df = df.drop(df.columns[0],axis=1)\n",
    "        df = df.drop(df.columns[3],axis=1)\n",
    "        df = df.drop(df.columns[4],axis=1)\n",
    "        #new column ID for each bus\n",
    "        df[\"ID\"]=id\n",
    "        df['Time'] = pd.to_datetime(df['Time'])\n",
    "        li.append(df)\n",
    "    dfall=pd.concat(li, axis=0, ignore_index=True)\n",
    "    return dfall\n",
    "\n",
    "dfall=[]\n",
    "for file in glob.glob(\"19*\"):\n",
    "    df=import_data(f\"{file}\")\n",
    "    dfall.append(df)\n",
    "    "
   ]
  },
  {
   "cell_type": "code",
   "execution_count": 13,
   "metadata": {},
   "outputs": [
    {
     "ename": "ValueError",
     "evalue": "No objects to concatenate",
     "output_type": "error",
     "traceback": [
      "\u001b[0;31m---------------------------------------------------------------------------\u001b[0m",
      "\u001b[0;31mValueError\u001b[0m                                Traceback (most recent call last)",
      "\u001b[1;32m/Users/mac/Desktop/PFE/TATP/notebooks/DataOrg.ipynb Cell 4\u001b[0m in \u001b[0;36m<cell line: 1>\u001b[0;34m()\u001b[0m\n\u001b[0;32m----> <a href='vscode-notebook-cell:/Users/mac/Desktop/PFE/TATP/notebooks/DataOrg.ipynb#W3sZmlsZQ%3D%3D?line=0'>1</a>\u001b[0m Data\u001b[39m=\u001b[39mpd\u001b[39m.\u001b[39;49mconcat(dfall, axis\u001b[39m=\u001b[39;49m\u001b[39m0\u001b[39;49m, ignore_index\u001b[39m=\u001b[39;49m\u001b[39mTrue\u001b[39;49;00m)\n\u001b[1;32m      <a href='vscode-notebook-cell:/Users/mac/Desktop/PFE/TATP/notebooks/DataOrg.ipynb#W3sZmlsZQ%3D%3D?line=1'>2</a>\u001b[0m Data\u001b[39m.\u001b[39mshape\n",
      "File \u001b[0;32m/Library/Frameworks/Python.framework/Versions/3.10/lib/python3.10/site-packages/pandas/util/_decorators.py:311\u001b[0m, in \u001b[0;36mdeprecate_nonkeyword_arguments.<locals>.decorate.<locals>.wrapper\u001b[0;34m(*args, **kwargs)\u001b[0m\n\u001b[1;32m    305\u001b[0m \u001b[39mif\u001b[39;00m \u001b[39mlen\u001b[39m(args) \u001b[39m>\u001b[39m num_allow_args:\n\u001b[1;32m    306\u001b[0m     warnings\u001b[39m.\u001b[39mwarn(\n\u001b[1;32m    307\u001b[0m         msg\u001b[39m.\u001b[39mformat(arguments\u001b[39m=\u001b[39marguments),\n\u001b[1;32m    308\u001b[0m         \u001b[39mFutureWarning\u001b[39;00m,\n\u001b[1;32m    309\u001b[0m         stacklevel\u001b[39m=\u001b[39mstacklevel,\n\u001b[1;32m    310\u001b[0m     )\n\u001b[0;32m--> 311\u001b[0m \u001b[39mreturn\u001b[39;00m func(\u001b[39m*\u001b[39;49margs, \u001b[39m*\u001b[39;49m\u001b[39m*\u001b[39;49mkwargs)\n",
      "File \u001b[0;32m/Library/Frameworks/Python.framework/Versions/3.10/lib/python3.10/site-packages/pandas/core/reshape/concat.py:347\u001b[0m, in \u001b[0;36mconcat\u001b[0;34m(objs, axis, join, ignore_index, keys, levels, names, verify_integrity, sort, copy)\u001b[0m\n\u001b[1;32m    143\u001b[0m \u001b[39m@deprecate_nonkeyword_arguments\u001b[39m(version\u001b[39m=\u001b[39m\u001b[39mNone\u001b[39;00m, allowed_args\u001b[39m=\u001b[39m[\u001b[39m\"\u001b[39m\u001b[39mobjs\u001b[39m\u001b[39m\"\u001b[39m])\n\u001b[1;32m    144\u001b[0m \u001b[39mdef\u001b[39;00m \u001b[39mconcat\u001b[39m(\n\u001b[1;32m    145\u001b[0m     objs: Iterable[NDFrame] \u001b[39m|\u001b[39m Mapping[Hashable, NDFrame],\n\u001b[0;32m   (...)\u001b[0m\n\u001b[1;32m    154\u001b[0m     copy: \u001b[39mbool\u001b[39m \u001b[39m=\u001b[39m \u001b[39mTrue\u001b[39;00m,\n\u001b[1;32m    155\u001b[0m ) \u001b[39m-\u001b[39m\u001b[39m>\u001b[39m DataFrame \u001b[39m|\u001b[39m Series:\n\u001b[1;32m    156\u001b[0m     \u001b[39m\"\"\"\u001b[39;00m\n\u001b[1;32m    157\u001b[0m \u001b[39m    Concatenate pandas objects along a particular axis with optional set logic\u001b[39;00m\n\u001b[1;32m    158\u001b[0m \u001b[39m    along the other axes.\u001b[39;00m\n\u001b[0;32m   (...)\u001b[0m\n\u001b[1;32m    345\u001b[0m \u001b[39m    ValueError: Indexes have overlapping values: ['a']\u001b[39;00m\n\u001b[1;32m    346\u001b[0m \u001b[39m    \"\"\"\u001b[39;00m\n\u001b[0;32m--> 347\u001b[0m     op \u001b[39m=\u001b[39m _Concatenator(\n\u001b[1;32m    348\u001b[0m         objs,\n\u001b[1;32m    349\u001b[0m         axis\u001b[39m=\u001b[39;49maxis,\n\u001b[1;32m    350\u001b[0m         ignore_index\u001b[39m=\u001b[39;49mignore_index,\n\u001b[1;32m    351\u001b[0m         join\u001b[39m=\u001b[39;49mjoin,\n\u001b[1;32m    352\u001b[0m         keys\u001b[39m=\u001b[39;49mkeys,\n\u001b[1;32m    353\u001b[0m         levels\u001b[39m=\u001b[39;49mlevels,\n\u001b[1;32m    354\u001b[0m         names\u001b[39m=\u001b[39;49mnames,\n\u001b[1;32m    355\u001b[0m         verify_integrity\u001b[39m=\u001b[39;49mverify_integrity,\n\u001b[1;32m    356\u001b[0m         copy\u001b[39m=\u001b[39;49mcopy,\n\u001b[1;32m    357\u001b[0m         sort\u001b[39m=\u001b[39;49msort,\n\u001b[1;32m    358\u001b[0m     )\n\u001b[1;32m    360\u001b[0m     \u001b[39mreturn\u001b[39;00m op\u001b[39m.\u001b[39mget_result()\n",
      "File \u001b[0;32m/Library/Frameworks/Python.framework/Versions/3.10/lib/python3.10/site-packages/pandas/core/reshape/concat.py:404\u001b[0m, in \u001b[0;36m_Concatenator.__init__\u001b[0;34m(self, objs, axis, join, keys, levels, names, ignore_index, verify_integrity, copy, sort)\u001b[0m\n\u001b[1;32m    401\u001b[0m     objs \u001b[39m=\u001b[39m \u001b[39mlist\u001b[39m(objs)\n\u001b[1;32m    403\u001b[0m \u001b[39mif\u001b[39;00m \u001b[39mlen\u001b[39m(objs) \u001b[39m==\u001b[39m \u001b[39m0\u001b[39m:\n\u001b[0;32m--> 404\u001b[0m     \u001b[39mraise\u001b[39;00m \u001b[39mValueError\u001b[39;00m(\u001b[39m\"\u001b[39m\u001b[39mNo objects to concatenate\u001b[39m\u001b[39m\"\u001b[39m)\n\u001b[1;32m    406\u001b[0m \u001b[39mif\u001b[39;00m keys \u001b[39mis\u001b[39;00m \u001b[39mNone\u001b[39;00m:\n\u001b[1;32m    407\u001b[0m     objs \u001b[39m=\u001b[39m \u001b[39mlist\u001b[39m(com\u001b[39m.\u001b[39mnot_none(\u001b[39m*\u001b[39mobjs))\n",
      "\u001b[0;31mValueError\u001b[0m: No objects to concatenate"
     ]
    }
   ],
   "source": [
    "Data=pd.concat(dfall, axis=0, ignore_index=True)\n",
    "Data.shape"
   ]
  },
  {
   "cell_type": "code",
   "execution_count": 11,
   "metadata": {},
   "outputs": [
    {
     "name": "stdout",
     "output_type": "stream",
     "text": [
      "Time\n",
      "Latitude\n",
      "Longitude\n",
      "Speed\n",
      "Attributes\n",
      "ID\n"
     ]
    }
   ],
   "source": [
    "# iterating the columns\n",
    "for col in Data.columns:\n",
    "    print(col)"
   ]
  },
  {
   "cell_type": "code",
   "execution_count": 12,
   "metadata": {},
   "outputs": [],
   "source": [
    "Data = Data[['ID','Time','Longitude','Latitude','Speed','Attributes']]"
   ]
  },
  {
   "cell_type": "code",
   "execution_count": 13,
   "metadata": {},
   "outputs": [
    {
     "data": {
      "text/html": [
       "<div>\n",
       "<style scoped>\n",
       "    .dataframe tbody tr th:only-of-type {\n",
       "        vertical-align: middle;\n",
       "    }\n",
       "\n",
       "    .dataframe tbody tr th {\n",
       "        vertical-align: top;\n",
       "    }\n",
       "\n",
       "    .dataframe thead th {\n",
       "        text-align: right;\n",
       "    }\n",
       "</style>\n",
       "<table border=\"1\" class=\"dataframe\">\n",
       "  <thead>\n",
       "    <tr style=\"text-align: right;\">\n",
       "      <th>6</th>\n",
       "      <th>ID</th>\n",
       "      <th>Time</th>\n",
       "      <th>Longitude</th>\n",
       "      <th>Latitude</th>\n",
       "      <th>Speed</th>\n",
       "      <th>Attributes</th>\n",
       "    </tr>\n",
       "  </thead>\n",
       "  <tbody>\n",
       "    <tr>\n",
       "      <th>0</th>\n",
       "      <td>19003</td>\n",
       "      <td>2023-02-16 05:59:39</td>\n",
       "      <td>5.460321</td>\n",
       "      <td>36.177352</td>\n",
       "      <td>1.1 km/h</td>\n",
       "      <td>distance=45.67  totalDistance=3587390.94  moti...</td>\n",
       "    </tr>\n",
       "    <tr>\n",
       "      <th>1</th>\n",
       "      <td>19003</td>\n",
       "      <td>2023-02-16 05:59:42</td>\n",
       "      <td>5.460317</td>\n",
       "      <td>36.177343</td>\n",
       "      <td>1.6 km/h</td>\n",
       "      <td>alarm=vibration  distance=1.07  totalDistance=...</td>\n",
       "    </tr>\n",
       "    <tr>\n",
       "      <th>2</th>\n",
       "      <td>19003</td>\n",
       "      <td>2023-02-16 05:59:49</td>\n",
       "      <td>5.46031</td>\n",
       "      <td>36.177252</td>\n",
       "      <td>3.3 km/h</td>\n",
       "      <td>distance=10.13  totalDistance=3587402.14  moti...</td>\n",
       "    </tr>\n",
       "    <tr>\n",
       "      <th>3</th>\n",
       "      <td>19003</td>\n",
       "      <td>2023-02-16 05:59:59</td>\n",
       "      <td>5.460355</td>\n",
       "      <td>36.177267</td>\n",
       "      <td>0.0 km/h</td>\n",
       "      <td>distance=4.42  totalDistance=3587406.56  motio...</td>\n",
       "    </tr>\n",
       "    <tr>\n",
       "      <th>4</th>\n",
       "      <td>19003</td>\n",
       "      <td>2023-02-16 06:00:04</td>\n",
       "      <td>5.460362</td>\n",
       "      <td>36.177269</td>\n",
       "      <td>6.4 km/h</td>\n",
       "      <td>distance=0.7  totalDistance=3587407.26  motion...</td>\n",
       "    </tr>\n",
       "  </tbody>\n",
       "</table>\n",
       "</div>"
      ],
      "text/plain": [
       "6     ID                Time Longitude   Latitude     Speed  \\\n",
       "0  19003 2023-02-16 05:59:39  5.460321  36.177352  1.1 km/h   \n",
       "1  19003 2023-02-16 05:59:42  5.460317  36.177343  1.6 km/h   \n",
       "2  19003 2023-02-16 05:59:49   5.46031  36.177252  3.3 km/h   \n",
       "3  19003 2023-02-16 05:59:59  5.460355  36.177267  0.0 km/h   \n",
       "4  19003 2023-02-16 06:00:04  5.460362  36.177269  6.4 km/h   \n",
       "\n",
       "6                                         Attributes  \n",
       "0  distance=45.67  totalDistance=3587390.94  moti...  \n",
       "1  alarm=vibration  distance=1.07  totalDistance=...  \n",
       "2  distance=10.13  totalDistance=3587402.14  moti...  \n",
       "3  distance=4.42  totalDistance=3587406.56  motio...  \n",
       "4  distance=0.7  totalDistance=3587407.26  motion...  "
      ]
     },
     "execution_count": 13,
     "metadata": {},
     "output_type": "execute_result"
    }
   ],
   "source": [
    "Data.head()"
   ]
  },
  {
   "cell_type": "code",
   "execution_count": 14,
   "metadata": {},
   "outputs": [],
   "source": [
    "Data.to_csv(f'DATARAW.csv', index=False)"
   ]
  }
 ],
 "metadata": {
  "kernelspec": {
   "display_name": "Python 3",
   "language": "python",
   "name": "python3"
  },
  "language_info": {
   "codemirror_mode": {
    "name": "ipython",
    "version": 3
   },
   "file_extension": ".py",
   "mimetype": "text/x-python",
   "name": "python",
   "nbconvert_exporter": "python",
   "pygments_lexer": "ipython3",
   "version": "3.10.5"
  },
  "orig_nbformat": 4
 },
 "nbformat": 4,
 "nbformat_minor": 2
}
